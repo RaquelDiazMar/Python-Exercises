{
 "cells": [
  {
   "cell_type": "markdown",
   "metadata": {},
   "source": [
    "## Finger exercise 01.\n",
    "\n",
    "Write a program that examines three variables—x, y, and z— and prints the largest odd number among them. If none of them are odd, it should print a message to that effect."
   ]
  },
  {
   "cell_type": "code",
   "execution_count": 13,
   "metadata": {},
   "outputs": [
    {
     "name": "stdout",
     "output_type": "stream",
     "text": [
      "Please, enter a number: 2\n",
      "Please, enter a second number: 78\n",
      "Please, enter a third number: 26\n",
      "None of them is odd!\n"
     ]
    }
   ],
   "source": [
    "# First, lest's ask to introduce numbers and convert them to integers\n",
    "x = int(input('Please, enter a number: '))\n",
    "y = int(input('Please, enter a second number: '))\n",
    "z = int(input('Please, enter a third number: '))\n",
    "\n",
    "\n",
    "# Now, let's use nested examine the variables and then compare the numbers.\n",
    "if x % 2 != 0:\n",
    "    if y % 2 != 0:\n",
    "        if z % 2 != 0:\n",
    "            if x > y and x > z:\n",
    "                print('The largest odd number is: ', x)\n",
    "            elif y > z:\n",
    "                print('The largest odd number is: ', y)\n",
    "            else:\n",
    "                print('The largest odd number is: ', z)\n",
    "        \n",
    "        elif z % 2 == 0:\n",
    "            if x > y:\n",
    "                print('The largest odd number is: ', x)\n",
    "            else:\n",
    "                print('The largest odd number is: ', y)\n",
    "                \n",
    "    elif y % 2 == 0:\n",
    "        \n",
    "        if z % 2 != 0:\n",
    "            if x > z:\n",
    "                print('The largest odd number is: ', x)\n",
    "            else:\n",
    "                print('The largest odd number is: ', z)\n",
    "        \n",
    "        elif z % 2 == 0:\n",
    "            print('The largest odd number is: ', x)\n",
    "    \n",
    "\n",
    "elif x % 2 == 0:\n",
    "    if y % 2 != 0:\n",
    "        if z % 2 != 0:\n",
    "            if y > z:\n",
    "                print('The largest odd number is: ', y)\n",
    "            else:\n",
    "                print('The largest odd number is: ', z)\n",
    "       \n",
    "        elif z % 2 == 0:\n",
    "            print('The largest odd number is: ', y)\n",
    "    \n",
    "    elif y % 2 == 0:\n",
    "        if z % 2 != 0:\n",
    "            print('The largest odd number is: ', z)\n",
    "        elif z % 2 == 0:\n",
    "            print('None of them is odd!')"
   ]
  },
  {
   "cell_type": "code",
   "execution_count": 14,
   "metadata": {},
   "outputs": [
    {
     "name": "stdout",
     "output_type": "stream",
     "text": [
      "Please, enter a number: 5\n",
      "Please, enter a second number: 25\n",
      "Please, enter a third number: 2\n",
      "25\n"
     ]
    }
   ],
   "source": [
    "# First, lest's ask to introduce numbers and convert them to integers\n",
    "\n",
    "x = int(input('Please, enter a number: '))\n",
    "y = int(input('Please, enter a second number: '))\n",
    "z = int(input('Please, enter a third number: '))\n",
    "\n",
    "# Let's define an empty list so that we can include in there only the odd numbers:\n",
    "list = []\n",
    "\n",
    "if x % 2 != 0:\n",
    "    list.append(x)\n",
    "    \n",
    "if y % 2 != 0:\n",
    "    list.append(y)\n",
    "    \n",
    "if z % 2 == 1:\n",
    "    list.append(z)\n",
    "\n",
    "# Let's print the maximum value in the list if any.\n",
    "if len(list) > 0:\n",
    "    print(max(list))\n",
    "else:\n",
    "    print('None of them is odd!')"
   ]
  },
  {
   "cell_type": "code",
   "execution_count": 20,
   "metadata": {},
   "outputs": [
    {
     "name": "stdout",
     "output_type": "stream",
     "text": [
      "How many numbers do you want to examine? 4\n",
      "Please, enter a number: 1\n",
      "Please, enter a number: 2\n",
      "Please, enter a number: 3\n",
      "Please, enter a number: 4\n",
      "3\n"
     ]
    }
   ],
   "source": [
    "# First, lest's create an empyt list and ask the amount of numbers to evaluate:\n",
    "list = []\n",
    "numbers = int(input('How many numbers do you want to examine? '))\n",
    "\n",
    "\n",
    "# Let's ask for the numbers and include in the list only the odd ones.\n",
    "for i in range(numbers):\n",
    "    i = int(input('Please, enter a number: '))\n",
    "    if i % 2 != 0:\n",
    "        list.append(i)\n",
    "\n",
    "        \n",
    "# Let's print the maximum value in the list if any.\n",
    "if len(list) > 0:\n",
    "    print(max(list))\n",
    "else:\n",
    "    print('None of them is odd!')"
   ]
  }
 ],
 "metadata": {
  "kernelspec": {
   "display_name": "Python 3",
   "language": "python",
   "name": "python3"
  },
  "language_info": {
   "codemirror_mode": {
    "name": "ipython",
    "version": 3
   },
   "file_extension": ".py",
   "mimetype": "text/x-python",
   "name": "python",
   "nbconvert_exporter": "python",
   "pygments_lexer": "ipython3",
   "version": "3.8.3"
  }
 },
 "nbformat": 4,
 "nbformat_minor": 4
}
